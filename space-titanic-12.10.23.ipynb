{
 "cells": [
  {
   "cell_type": "code",
   "execution_count": 1,
   "id": "c952e752",
   "metadata": {
    "_cell_guid": "b1076dfc-b9ad-4769-8c92-a6c4dae69d19",
    "_uuid": "8f2839f25d086af736a60e9eeb907d3b93b6e0e5",
    "execution": {
     "iopub.execute_input": "2023-10-12T13:43:21.473691Z",
     "iopub.status.busy": "2023-10-12T13:43:21.473153Z",
     "iopub.status.idle": "2023-10-12T13:43:21.827020Z",
     "shell.execute_reply": "2023-10-12T13:43:21.825994Z"
    },
    "papermill": {
     "duration": 0.365208,
     "end_time": "2023-10-12T13:43:21.829325",
     "exception": false,
     "start_time": "2023-10-12T13:43:21.464117",
     "status": "completed"
    },
    "tags": []
   },
   "outputs": [
    {
     "name": "stdout",
     "output_type": "stream",
     "text": [
      "/kaggle/input/spaceship-titanic/sample_submission.csv\n",
      "/kaggle/input/spaceship-titanic/train.csv\n",
      "/kaggle/input/spaceship-titanic/test.csv\n"
     ]
    }
   ],
   "source": [
    "# This Python 3 environment comes with many helpful analytics libraries installed\n",
    "# It is defined by the kaggle/python Docker image: https://github.com/kaggle/docker-python\n",
    "# For example, here's several helpful packages to load\n",
    "\n",
    "import numpy as np # linear algebra\n",
    "import pandas as pd # data processing, CSV file I/O (e.g. pd.read_csv)\n",
    "\n",
    "# Input data files are available in the read-only \"../input/\" directory\n",
    "# For example, running this (by clicking run or pressing Shift+Enter) will list all files under the input directory\n",
    "\n",
    "import os\n",
    "for dirname, _, filenames in os.walk('/kaggle/input'):\n",
    "    for filename in filenames:\n",
    "        print(os.path.join(dirname, filename))\n",
    "\n",
    "# You can write up to 20GB to the current directory (/kaggle/working/) that gets preserved as output when you create a version using \"Save & Run All\" \n",
    "# You can also write temporary files to /kaggle/temp/, but they won't be saved outside of the current session"
   ]
  },
  {
   "cell_type": "code",
   "execution_count": 2,
   "id": "e0f01c71",
   "metadata": {
    "execution": {
     "iopub.execute_input": "2023-10-12T13:43:21.846061Z",
     "iopub.status.busy": "2023-10-12T13:43:21.845335Z",
     "iopub.status.idle": "2023-10-12T13:43:21.955332Z",
     "shell.execute_reply": "2023-10-12T13:43:21.953930Z"
    },
    "papermill": {
     "duration": 0.120741,
     "end_time": "2023-10-12T13:43:21.957676",
     "exception": false,
     "start_time": "2023-10-12T13:43:21.836935",
     "status": "completed"
    },
    "tags": []
   },
   "outputs": [
    {
     "data": {
      "text/html": [
       "<div>\n",
       "<style scoped>\n",
       "    .dataframe tbody tr th:only-of-type {\n",
       "        vertical-align: middle;\n",
       "    }\n",
       "\n",
       "    .dataframe tbody tr th {\n",
       "        vertical-align: top;\n",
       "    }\n",
       "\n",
       "    .dataframe thead th {\n",
       "        text-align: right;\n",
       "    }\n",
       "</style>\n",
       "<table border=\"1\" class=\"dataframe\">\n",
       "  <thead>\n",
       "    <tr style=\"text-align: right;\">\n",
       "      <th></th>\n",
       "      <th>PassengerId</th>\n",
       "      <th>HomePlanet</th>\n",
       "      <th>CryoSleep</th>\n",
       "      <th>Cabin</th>\n",
       "      <th>Destination</th>\n",
       "      <th>Age</th>\n",
       "      <th>VIP</th>\n",
       "      <th>RoomService</th>\n",
       "      <th>FoodCourt</th>\n",
       "      <th>ShoppingMall</th>\n",
       "      <th>Spa</th>\n",
       "      <th>VRDeck</th>\n",
       "      <th>Name</th>\n",
       "      <th>Transported</th>\n",
       "    </tr>\n",
       "  </thead>\n",
       "  <tbody>\n",
       "    <tr>\n",
       "      <th>0</th>\n",
       "      <td>0001_01</td>\n",
       "      <td>Europa</td>\n",
       "      <td>False</td>\n",
       "      <td>B/0/P</td>\n",
       "      <td>TRAPPIST-1e</td>\n",
       "      <td>39.0</td>\n",
       "      <td>False</td>\n",
       "      <td>0.0</td>\n",
       "      <td>0.0</td>\n",
       "      <td>0.0</td>\n",
       "      <td>0.0</td>\n",
       "      <td>0.0</td>\n",
       "      <td>Maham Ofracculy</td>\n",
       "      <td>False</td>\n",
       "    </tr>\n",
       "    <tr>\n",
       "      <th>1</th>\n",
       "      <td>0002_01</td>\n",
       "      <td>Earth</td>\n",
       "      <td>False</td>\n",
       "      <td>F/0/S</td>\n",
       "      <td>TRAPPIST-1e</td>\n",
       "      <td>24.0</td>\n",
       "      <td>False</td>\n",
       "      <td>109.0</td>\n",
       "      <td>9.0</td>\n",
       "      <td>25.0</td>\n",
       "      <td>549.0</td>\n",
       "      <td>44.0</td>\n",
       "      <td>Juanna Vines</td>\n",
       "      <td>True</td>\n",
       "    </tr>\n",
       "    <tr>\n",
       "      <th>2</th>\n",
       "      <td>0003_01</td>\n",
       "      <td>Europa</td>\n",
       "      <td>False</td>\n",
       "      <td>A/0/S</td>\n",
       "      <td>TRAPPIST-1e</td>\n",
       "      <td>58.0</td>\n",
       "      <td>True</td>\n",
       "      <td>43.0</td>\n",
       "      <td>3576.0</td>\n",
       "      <td>0.0</td>\n",
       "      <td>6715.0</td>\n",
       "      <td>49.0</td>\n",
       "      <td>Altark Susent</td>\n",
       "      <td>False</td>\n",
       "    </tr>\n",
       "    <tr>\n",
       "      <th>3</th>\n",
       "      <td>0003_02</td>\n",
       "      <td>Europa</td>\n",
       "      <td>False</td>\n",
       "      <td>A/0/S</td>\n",
       "      <td>TRAPPIST-1e</td>\n",
       "      <td>33.0</td>\n",
       "      <td>False</td>\n",
       "      <td>0.0</td>\n",
       "      <td>1283.0</td>\n",
       "      <td>371.0</td>\n",
       "      <td>3329.0</td>\n",
       "      <td>193.0</td>\n",
       "      <td>Solam Susent</td>\n",
       "      <td>False</td>\n",
       "    </tr>\n",
       "    <tr>\n",
       "      <th>4</th>\n",
       "      <td>0004_01</td>\n",
       "      <td>Earth</td>\n",
       "      <td>False</td>\n",
       "      <td>F/1/S</td>\n",
       "      <td>TRAPPIST-1e</td>\n",
       "      <td>16.0</td>\n",
       "      <td>False</td>\n",
       "      <td>303.0</td>\n",
       "      <td>70.0</td>\n",
       "      <td>151.0</td>\n",
       "      <td>565.0</td>\n",
       "      <td>2.0</td>\n",
       "      <td>Willy Santantines</td>\n",
       "      <td>True</td>\n",
       "    </tr>\n",
       "    <tr>\n",
       "      <th>...</th>\n",
       "      <td>...</td>\n",
       "      <td>...</td>\n",
       "      <td>...</td>\n",
       "      <td>...</td>\n",
       "      <td>...</td>\n",
       "      <td>...</td>\n",
       "      <td>...</td>\n",
       "      <td>...</td>\n",
       "      <td>...</td>\n",
       "      <td>...</td>\n",
       "      <td>...</td>\n",
       "      <td>...</td>\n",
       "      <td>...</td>\n",
       "      <td>...</td>\n",
       "    </tr>\n",
       "    <tr>\n",
       "      <th>8688</th>\n",
       "      <td>9276_01</td>\n",
       "      <td>Europa</td>\n",
       "      <td>False</td>\n",
       "      <td>A/98/P</td>\n",
       "      <td>55 Cancri e</td>\n",
       "      <td>41.0</td>\n",
       "      <td>True</td>\n",
       "      <td>0.0</td>\n",
       "      <td>6819.0</td>\n",
       "      <td>0.0</td>\n",
       "      <td>1643.0</td>\n",
       "      <td>74.0</td>\n",
       "      <td>Gravior Noxnuther</td>\n",
       "      <td>False</td>\n",
       "    </tr>\n",
       "    <tr>\n",
       "      <th>8689</th>\n",
       "      <td>9278_01</td>\n",
       "      <td>Earth</td>\n",
       "      <td>True</td>\n",
       "      <td>G/1499/S</td>\n",
       "      <td>PSO J318.5-22</td>\n",
       "      <td>18.0</td>\n",
       "      <td>False</td>\n",
       "      <td>0.0</td>\n",
       "      <td>0.0</td>\n",
       "      <td>0.0</td>\n",
       "      <td>0.0</td>\n",
       "      <td>0.0</td>\n",
       "      <td>Kurta Mondalley</td>\n",
       "      <td>False</td>\n",
       "    </tr>\n",
       "    <tr>\n",
       "      <th>8690</th>\n",
       "      <td>9279_01</td>\n",
       "      <td>Earth</td>\n",
       "      <td>False</td>\n",
       "      <td>G/1500/S</td>\n",
       "      <td>TRAPPIST-1e</td>\n",
       "      <td>26.0</td>\n",
       "      <td>False</td>\n",
       "      <td>0.0</td>\n",
       "      <td>0.0</td>\n",
       "      <td>1872.0</td>\n",
       "      <td>1.0</td>\n",
       "      <td>0.0</td>\n",
       "      <td>Fayey Connon</td>\n",
       "      <td>True</td>\n",
       "    </tr>\n",
       "    <tr>\n",
       "      <th>8691</th>\n",
       "      <td>9280_01</td>\n",
       "      <td>Europa</td>\n",
       "      <td>False</td>\n",
       "      <td>E/608/S</td>\n",
       "      <td>55 Cancri e</td>\n",
       "      <td>32.0</td>\n",
       "      <td>False</td>\n",
       "      <td>0.0</td>\n",
       "      <td>1049.0</td>\n",
       "      <td>0.0</td>\n",
       "      <td>353.0</td>\n",
       "      <td>3235.0</td>\n",
       "      <td>Celeon Hontichre</td>\n",
       "      <td>False</td>\n",
       "    </tr>\n",
       "    <tr>\n",
       "      <th>8692</th>\n",
       "      <td>9280_02</td>\n",
       "      <td>Europa</td>\n",
       "      <td>False</td>\n",
       "      <td>E/608/S</td>\n",
       "      <td>TRAPPIST-1e</td>\n",
       "      <td>44.0</td>\n",
       "      <td>False</td>\n",
       "      <td>126.0</td>\n",
       "      <td>4688.0</td>\n",
       "      <td>0.0</td>\n",
       "      <td>0.0</td>\n",
       "      <td>12.0</td>\n",
       "      <td>Propsh Hontichre</td>\n",
       "      <td>True</td>\n",
       "    </tr>\n",
       "  </tbody>\n",
       "</table>\n",
       "<p>8693 rows × 14 columns</p>\n",
       "</div>"
      ],
      "text/plain": [
       "     PassengerId HomePlanet CryoSleep     Cabin    Destination   Age    VIP  \\\n",
       "0        0001_01     Europa     False     B/0/P    TRAPPIST-1e  39.0  False   \n",
       "1        0002_01      Earth     False     F/0/S    TRAPPIST-1e  24.0  False   \n",
       "2        0003_01     Europa     False     A/0/S    TRAPPIST-1e  58.0   True   \n",
       "3        0003_02     Europa     False     A/0/S    TRAPPIST-1e  33.0  False   \n",
       "4        0004_01      Earth     False     F/1/S    TRAPPIST-1e  16.0  False   \n",
       "...          ...        ...       ...       ...            ...   ...    ...   \n",
       "8688     9276_01     Europa     False    A/98/P    55 Cancri e  41.0   True   \n",
       "8689     9278_01      Earth      True  G/1499/S  PSO J318.5-22  18.0  False   \n",
       "8690     9279_01      Earth     False  G/1500/S    TRAPPIST-1e  26.0  False   \n",
       "8691     9280_01     Europa     False   E/608/S    55 Cancri e  32.0  False   \n",
       "8692     9280_02     Europa     False   E/608/S    TRAPPIST-1e  44.0  False   \n",
       "\n",
       "      RoomService  FoodCourt  ShoppingMall     Spa  VRDeck               Name  \\\n",
       "0             0.0        0.0           0.0     0.0     0.0    Maham Ofracculy   \n",
       "1           109.0        9.0          25.0   549.0    44.0       Juanna Vines   \n",
       "2            43.0     3576.0           0.0  6715.0    49.0      Altark Susent   \n",
       "3             0.0     1283.0         371.0  3329.0   193.0       Solam Susent   \n",
       "4           303.0       70.0         151.0   565.0     2.0  Willy Santantines   \n",
       "...           ...        ...           ...     ...     ...                ...   \n",
       "8688          0.0     6819.0           0.0  1643.0    74.0  Gravior Noxnuther   \n",
       "8689          0.0        0.0           0.0     0.0     0.0    Kurta Mondalley   \n",
       "8690          0.0        0.0        1872.0     1.0     0.0       Fayey Connon   \n",
       "8691          0.0     1049.0           0.0   353.0  3235.0   Celeon Hontichre   \n",
       "8692        126.0     4688.0           0.0     0.0    12.0   Propsh Hontichre   \n",
       "\n",
       "      Transported  \n",
       "0           False  \n",
       "1            True  \n",
       "2           False  \n",
       "3           False  \n",
       "4            True  \n",
       "...           ...  \n",
       "8688        False  \n",
       "8689        False  \n",
       "8690         True  \n",
       "8691        False  \n",
       "8692         True  \n",
       "\n",
       "[8693 rows x 14 columns]"
      ]
     },
     "execution_count": 2,
     "metadata": {},
     "output_type": "execute_result"
    }
   ],
   "source": [
    "train_data = pd.read_csv(\"/kaggle/input/spaceship-titanic/train.csv\")\n",
    "test_data = pd.read_csv(\"/kaggle/input/spaceship-titanic/test.csv\")\n",
    "\n",
    "train_data"
   ]
  },
  {
   "cell_type": "code",
   "execution_count": 3,
   "id": "373424d4",
   "metadata": {
    "execution": {
     "iopub.execute_input": "2023-10-12T13:43:21.978228Z",
     "iopub.status.busy": "2023-10-12T13:43:21.977859Z",
     "iopub.status.idle": "2023-10-12T13:43:22.001314Z",
     "shell.execute_reply": "2023-10-12T13:43:22.000255Z"
    },
    "papermill": {
     "duration": 0.03439,
     "end_time": "2023-10-12T13:43:22.003306",
     "exception": false,
     "start_time": "2023-10-12T13:43:21.968916",
     "status": "completed"
    },
    "tags": []
   },
   "outputs": [
    {
     "data": {
      "text/plain": [
       "PassengerId     8693\n",
       "HomePlanet         3\n",
       "CryoSleep          2\n",
       "Cabin           6560\n",
       "Destination        3\n",
       "Age               80\n",
       "VIP                2\n",
       "RoomService     1273\n",
       "FoodCourt       1507\n",
       "ShoppingMall    1115\n",
       "Spa             1327\n",
       "VRDeck          1306\n",
       "Name            8473\n",
       "Transported        2\n",
       "dtype: int64"
      ]
     },
     "execution_count": 3,
     "metadata": {},
     "output_type": "execute_result"
    }
   ],
   "source": [
    "train_data.nunique()"
   ]
  },
  {
   "cell_type": "markdown",
   "id": "163c2535",
   "metadata": {
    "papermill": {
     "duration": 0.00773,
     "end_time": "2023-10-12T13:43:22.018776",
     "exception": false,
     "start_time": "2023-10-12T13:43:22.011046",
     "status": "completed"
    },
    "tags": []
   },
   "source": [
    "### Breaking down the Cabin feature\n",
    "\n",
    "Cabin - The cabin number where the passenger is staying. Takes the form deck/num/side, where side can be either P for Port or S for Starboard."
   ]
  },
  {
   "cell_type": "code",
   "execution_count": 4,
   "id": "6d7f6ede",
   "metadata": {
    "execution": {
     "iopub.execute_input": "2023-10-12T13:43:22.035854Z",
     "iopub.status.busy": "2023-10-12T13:43:22.035519Z",
     "iopub.status.idle": "2023-10-12T13:43:22.059799Z",
     "shell.execute_reply": "2023-10-12T13:43:22.058932Z"
    },
    "papermill": {
     "duration": 0.035256,
     "end_time": "2023-10-12T13:43:22.061795",
     "exception": false,
     "start_time": "2023-10-12T13:43:22.026539",
     "status": "completed"
    },
    "tags": []
   },
   "outputs": [
    {
     "data": {
      "text/html": [
       "<div>\n",
       "<style scoped>\n",
       "    .dataframe tbody tr th:only-of-type {\n",
       "        vertical-align: middle;\n",
       "    }\n",
       "\n",
       "    .dataframe tbody tr th {\n",
       "        vertical-align: top;\n",
       "    }\n",
       "\n",
       "    .dataframe thead th {\n",
       "        text-align: right;\n",
       "    }\n",
       "</style>\n",
       "<table border=\"1\" class=\"dataframe\">\n",
       "  <thead>\n",
       "    <tr style=\"text-align: right;\">\n",
       "      <th></th>\n",
       "      <th>deck</th>\n",
       "      <th>num</th>\n",
       "      <th>side</th>\n",
       "    </tr>\n",
       "  </thead>\n",
       "  <tbody>\n",
       "    <tr>\n",
       "      <th>0</th>\n",
       "      <td>B</td>\n",
       "      <td>0</td>\n",
       "      <td>P</td>\n",
       "    </tr>\n",
       "    <tr>\n",
       "      <th>1</th>\n",
       "      <td>F</td>\n",
       "      <td>0</td>\n",
       "      <td>S</td>\n",
       "    </tr>\n",
       "    <tr>\n",
       "      <th>2</th>\n",
       "      <td>A</td>\n",
       "      <td>0</td>\n",
       "      <td>S</td>\n",
       "    </tr>\n",
       "    <tr>\n",
       "      <th>3</th>\n",
       "      <td>A</td>\n",
       "      <td>0</td>\n",
       "      <td>S</td>\n",
       "    </tr>\n",
       "    <tr>\n",
       "      <th>4</th>\n",
       "      <td>F</td>\n",
       "      <td>1</td>\n",
       "      <td>S</td>\n",
       "    </tr>\n",
       "    <tr>\n",
       "      <th>5</th>\n",
       "      <td>F</td>\n",
       "      <td>0</td>\n",
       "      <td>P</td>\n",
       "    </tr>\n",
       "  </tbody>\n",
       "</table>\n",
       "</div>"
      ],
      "text/plain": [
       "  deck num side\n",
       "0    B   0    P\n",
       "1    F   0    S\n",
       "2    A   0    S\n",
       "3    A   0    S\n",
       "4    F   1    S\n",
       "5    F   0    P"
      ]
     },
     "execution_count": 4,
     "metadata": {},
     "output_type": "execute_result"
    }
   ],
   "source": [
    "cabin_train_data = train_data[\"Cabin\"].str.split(pat = \"/\", expand=True)\n",
    "split_cabin_train = cabin_train_data.rename(columns={0: \"deck\", 1: \"num\", 2: \"side\"})\n",
    "\n",
    "split_cabin_train.head(6)"
   ]
  },
  {
   "cell_type": "code",
   "execution_count": 5,
   "id": "c64aa669",
   "metadata": {
    "execution": {
     "iopub.execute_input": "2023-10-12T13:43:22.079686Z",
     "iopub.status.busy": "2023-10-12T13:43:22.079362Z",
     "iopub.status.idle": "2023-10-12T13:43:22.088494Z",
     "shell.execute_reply": "2023-10-12T13:43:22.087379Z"
    },
    "papermill": {
     "duration": 0.020413,
     "end_time": "2023-10-12T13:43:22.090540",
     "exception": false,
     "start_time": "2023-10-12T13:43:22.070127",
     "status": "completed"
    },
    "tags": []
   },
   "outputs": [
    {
     "data": {
      "text/plain": [
       "deck       8\n",
       "num     1817\n",
       "side       2\n",
       "dtype: int64"
      ]
     },
     "execution_count": 5,
     "metadata": {},
     "output_type": "execute_result"
    }
   ],
   "source": [
    "split_cabin_train.nunique()"
   ]
  },
  {
   "cell_type": "markdown",
   "id": "cdd4bdba",
   "metadata": {
    "papermill": {
     "duration": 0.007728,
     "end_time": "2023-10-12T13:43:22.106344",
     "exception": false,
     "start_time": "2023-10-12T13:43:22.098616",
     "status": "completed"
    },
    "tags": []
   },
   "source": [
    "We can see \"num\" has too many values while \"deck\" and \"size\" don't. We'll ignore it as it is probably not important.\n",
    "We can also see the 2 sides can have decks named the same, so we cant use just the deck feature."
   ]
  },
  {
   "cell_type": "code",
   "execution_count": 6,
   "id": "bdd0fbca",
   "metadata": {
    "execution": {
     "iopub.execute_input": "2023-10-12T13:43:22.124246Z",
     "iopub.status.busy": "2023-10-12T13:43:22.123916Z",
     "iopub.status.idle": "2023-10-12T13:43:22.135043Z",
     "shell.execute_reply": "2023-10-12T13:43:22.133985Z"
    },
    "papermill": {
     "duration": 0.022506,
     "end_time": "2023-10-12T13:43:22.137084",
     "exception": false,
     "start_time": "2023-10-12T13:43:22.114578",
     "status": "completed"
    },
    "tags": []
   },
   "outputs": [],
   "source": [
    "cabin_test_data = test_data[\"Cabin\"].str.split(pat = \"/\", expand=True)\n",
    "split_cabin_test = cabin_test_data.rename(columns={0: \"deck\", 1: \"num\", 2: \"side\"})"
   ]
  },
  {
   "cell_type": "code",
   "execution_count": 7,
   "id": "d2c43906",
   "metadata": {
    "execution": {
     "iopub.execute_input": "2023-10-12T13:43:22.154696Z",
     "iopub.status.busy": "2023-10-12T13:43:22.154343Z",
     "iopub.status.idle": "2023-10-12T13:43:22.187692Z",
     "shell.execute_reply": "2023-10-12T13:43:22.187034Z"
    },
    "papermill": {
     "duration": 0.044326,
     "end_time": "2023-10-12T13:43:22.189463",
     "exception": false,
     "start_time": "2023-10-12T13:43:22.145137",
     "status": "completed"
    },
    "tags": []
   },
   "outputs": [
    {
     "data": {
      "text/html": [
       "<div>\n",
       "<style scoped>\n",
       "    .dataframe tbody tr th:only-of-type {\n",
       "        vertical-align: middle;\n",
       "    }\n",
       "\n",
       "    .dataframe tbody tr th {\n",
       "        vertical-align: top;\n",
       "    }\n",
       "\n",
       "    .dataframe thead th {\n",
       "        text-align: right;\n",
       "    }\n",
       "</style>\n",
       "<table border=\"1\" class=\"dataframe\">\n",
       "  <thead>\n",
       "    <tr style=\"text-align: right;\">\n",
       "      <th></th>\n",
       "      <th>PassengerId</th>\n",
       "      <th>HomePlanet</th>\n",
       "      <th>CryoSleep</th>\n",
       "      <th>Destination</th>\n",
       "      <th>Age</th>\n",
       "      <th>VIP</th>\n",
       "      <th>RoomService</th>\n",
       "      <th>FoodCourt</th>\n",
       "      <th>ShoppingMall</th>\n",
       "      <th>Spa</th>\n",
       "      <th>VRDeck</th>\n",
       "      <th>Name</th>\n",
       "      <th>Transported</th>\n",
       "      <th>deck</th>\n",
       "      <th>side</th>\n",
       "    </tr>\n",
       "  </thead>\n",
       "  <tbody>\n",
       "    <tr>\n",
       "      <th>0</th>\n",
       "      <td>0001_01</td>\n",
       "      <td>Europa</td>\n",
       "      <td>False</td>\n",
       "      <td>TRAPPIST-1e</td>\n",
       "      <td>39.0</td>\n",
       "      <td>False</td>\n",
       "      <td>0.0</td>\n",
       "      <td>0.0</td>\n",
       "      <td>0.0</td>\n",
       "      <td>0.0</td>\n",
       "      <td>0.0</td>\n",
       "      <td>Maham Ofracculy</td>\n",
       "      <td>False</td>\n",
       "      <td>B</td>\n",
       "      <td>P</td>\n",
       "    </tr>\n",
       "    <tr>\n",
       "      <th>1</th>\n",
       "      <td>0002_01</td>\n",
       "      <td>Earth</td>\n",
       "      <td>False</td>\n",
       "      <td>TRAPPIST-1e</td>\n",
       "      <td>24.0</td>\n",
       "      <td>False</td>\n",
       "      <td>109.0</td>\n",
       "      <td>9.0</td>\n",
       "      <td>25.0</td>\n",
       "      <td>549.0</td>\n",
       "      <td>44.0</td>\n",
       "      <td>Juanna Vines</td>\n",
       "      <td>True</td>\n",
       "      <td>F</td>\n",
       "      <td>S</td>\n",
       "    </tr>\n",
       "    <tr>\n",
       "      <th>2</th>\n",
       "      <td>0003_01</td>\n",
       "      <td>Europa</td>\n",
       "      <td>False</td>\n",
       "      <td>TRAPPIST-1e</td>\n",
       "      <td>58.0</td>\n",
       "      <td>True</td>\n",
       "      <td>43.0</td>\n",
       "      <td>3576.0</td>\n",
       "      <td>0.0</td>\n",
       "      <td>6715.0</td>\n",
       "      <td>49.0</td>\n",
       "      <td>Altark Susent</td>\n",
       "      <td>False</td>\n",
       "      <td>A</td>\n",
       "      <td>S</td>\n",
       "    </tr>\n",
       "    <tr>\n",
       "      <th>3</th>\n",
       "      <td>0003_02</td>\n",
       "      <td>Europa</td>\n",
       "      <td>False</td>\n",
       "      <td>TRAPPIST-1e</td>\n",
       "      <td>33.0</td>\n",
       "      <td>False</td>\n",
       "      <td>0.0</td>\n",
       "      <td>1283.0</td>\n",
       "      <td>371.0</td>\n",
       "      <td>3329.0</td>\n",
       "      <td>193.0</td>\n",
       "      <td>Solam Susent</td>\n",
       "      <td>False</td>\n",
       "      <td>A</td>\n",
       "      <td>S</td>\n",
       "    </tr>\n",
       "    <tr>\n",
       "      <th>4</th>\n",
       "      <td>0004_01</td>\n",
       "      <td>Earth</td>\n",
       "      <td>False</td>\n",
       "      <td>TRAPPIST-1e</td>\n",
       "      <td>16.0</td>\n",
       "      <td>False</td>\n",
       "      <td>303.0</td>\n",
       "      <td>70.0</td>\n",
       "      <td>151.0</td>\n",
       "      <td>565.0</td>\n",
       "      <td>2.0</td>\n",
       "      <td>Willy Santantines</td>\n",
       "      <td>True</td>\n",
       "      <td>F</td>\n",
       "      <td>S</td>\n",
       "    </tr>\n",
       "    <tr>\n",
       "      <th>...</th>\n",
       "      <td>...</td>\n",
       "      <td>...</td>\n",
       "      <td>...</td>\n",
       "      <td>...</td>\n",
       "      <td>...</td>\n",
       "      <td>...</td>\n",
       "      <td>...</td>\n",
       "      <td>...</td>\n",
       "      <td>...</td>\n",
       "      <td>...</td>\n",
       "      <td>...</td>\n",
       "      <td>...</td>\n",
       "      <td>...</td>\n",
       "      <td>...</td>\n",
       "      <td>...</td>\n",
       "    </tr>\n",
       "    <tr>\n",
       "      <th>8688</th>\n",
       "      <td>9276_01</td>\n",
       "      <td>Europa</td>\n",
       "      <td>False</td>\n",
       "      <td>55 Cancri e</td>\n",
       "      <td>41.0</td>\n",
       "      <td>True</td>\n",
       "      <td>0.0</td>\n",
       "      <td>6819.0</td>\n",
       "      <td>0.0</td>\n",
       "      <td>1643.0</td>\n",
       "      <td>74.0</td>\n",
       "      <td>Gravior Noxnuther</td>\n",
       "      <td>False</td>\n",
       "      <td>A</td>\n",
       "      <td>P</td>\n",
       "    </tr>\n",
       "    <tr>\n",
       "      <th>8689</th>\n",
       "      <td>9278_01</td>\n",
       "      <td>Earth</td>\n",
       "      <td>True</td>\n",
       "      <td>PSO J318.5-22</td>\n",
       "      <td>18.0</td>\n",
       "      <td>False</td>\n",
       "      <td>0.0</td>\n",
       "      <td>0.0</td>\n",
       "      <td>0.0</td>\n",
       "      <td>0.0</td>\n",
       "      <td>0.0</td>\n",
       "      <td>Kurta Mondalley</td>\n",
       "      <td>False</td>\n",
       "      <td>G</td>\n",
       "      <td>S</td>\n",
       "    </tr>\n",
       "    <tr>\n",
       "      <th>8690</th>\n",
       "      <td>9279_01</td>\n",
       "      <td>Earth</td>\n",
       "      <td>False</td>\n",
       "      <td>TRAPPIST-1e</td>\n",
       "      <td>26.0</td>\n",
       "      <td>False</td>\n",
       "      <td>0.0</td>\n",
       "      <td>0.0</td>\n",
       "      <td>1872.0</td>\n",
       "      <td>1.0</td>\n",
       "      <td>0.0</td>\n",
       "      <td>Fayey Connon</td>\n",
       "      <td>True</td>\n",
       "      <td>G</td>\n",
       "      <td>S</td>\n",
       "    </tr>\n",
       "    <tr>\n",
       "      <th>8691</th>\n",
       "      <td>9280_01</td>\n",
       "      <td>Europa</td>\n",
       "      <td>False</td>\n",
       "      <td>55 Cancri e</td>\n",
       "      <td>32.0</td>\n",
       "      <td>False</td>\n",
       "      <td>0.0</td>\n",
       "      <td>1049.0</td>\n",
       "      <td>0.0</td>\n",
       "      <td>353.0</td>\n",
       "      <td>3235.0</td>\n",
       "      <td>Celeon Hontichre</td>\n",
       "      <td>False</td>\n",
       "      <td>E</td>\n",
       "      <td>S</td>\n",
       "    </tr>\n",
       "    <tr>\n",
       "      <th>8692</th>\n",
       "      <td>9280_02</td>\n",
       "      <td>Europa</td>\n",
       "      <td>False</td>\n",
       "      <td>TRAPPIST-1e</td>\n",
       "      <td>44.0</td>\n",
       "      <td>False</td>\n",
       "      <td>126.0</td>\n",
       "      <td>4688.0</td>\n",
       "      <td>0.0</td>\n",
       "      <td>0.0</td>\n",
       "      <td>12.0</td>\n",
       "      <td>Propsh Hontichre</td>\n",
       "      <td>True</td>\n",
       "      <td>E</td>\n",
       "      <td>S</td>\n",
       "    </tr>\n",
       "  </tbody>\n",
       "</table>\n",
       "<p>8693 rows × 15 columns</p>\n",
       "</div>"
      ],
      "text/plain": [
       "     PassengerId HomePlanet CryoSleep    Destination   Age    VIP  \\\n",
       "0        0001_01     Europa     False    TRAPPIST-1e  39.0  False   \n",
       "1        0002_01      Earth     False    TRAPPIST-1e  24.0  False   \n",
       "2        0003_01     Europa     False    TRAPPIST-1e  58.0   True   \n",
       "3        0003_02     Europa     False    TRAPPIST-1e  33.0  False   \n",
       "4        0004_01      Earth     False    TRAPPIST-1e  16.0  False   \n",
       "...          ...        ...       ...            ...   ...    ...   \n",
       "8688     9276_01     Europa     False    55 Cancri e  41.0   True   \n",
       "8689     9278_01      Earth      True  PSO J318.5-22  18.0  False   \n",
       "8690     9279_01      Earth     False    TRAPPIST-1e  26.0  False   \n",
       "8691     9280_01     Europa     False    55 Cancri e  32.0  False   \n",
       "8692     9280_02     Europa     False    TRAPPIST-1e  44.0  False   \n",
       "\n",
       "      RoomService  FoodCourt  ShoppingMall     Spa  VRDeck               Name  \\\n",
       "0             0.0        0.0           0.0     0.0     0.0    Maham Ofracculy   \n",
       "1           109.0        9.0          25.0   549.0    44.0       Juanna Vines   \n",
       "2            43.0     3576.0           0.0  6715.0    49.0      Altark Susent   \n",
       "3             0.0     1283.0         371.0  3329.0   193.0       Solam Susent   \n",
       "4           303.0       70.0         151.0   565.0     2.0  Willy Santantines   \n",
       "...           ...        ...           ...     ...     ...                ...   \n",
       "8688          0.0     6819.0           0.0  1643.0    74.0  Gravior Noxnuther   \n",
       "8689          0.0        0.0           0.0     0.0     0.0    Kurta Mondalley   \n",
       "8690          0.0        0.0        1872.0     1.0     0.0       Fayey Connon   \n",
       "8691          0.0     1049.0           0.0   353.0  3235.0   Celeon Hontichre   \n",
       "8692        126.0     4688.0           0.0     0.0    12.0   Propsh Hontichre   \n",
       "\n",
       "      Transported deck side  \n",
       "0           False    B    P  \n",
       "1            True    F    S  \n",
       "2           False    A    S  \n",
       "3           False    A    S  \n",
       "4            True    F    S  \n",
       "...           ...  ...  ...  \n",
       "8688        False    A    P  \n",
       "8689        False    G    S  \n",
       "8690         True    G    S  \n",
       "8691        False    E    S  \n",
       "8692         True    E    S  \n",
       "\n",
       "[8693 rows x 15 columns]"
      ]
     },
     "execution_count": 7,
     "metadata": {},
     "output_type": "execute_result"
    }
   ],
   "source": [
    "train_data = train_data.drop(\"Cabin\", axis = 1).join(split_cabin_train[[\"deck\", \"side\"]])\n",
    "test_data = test_data.drop(\"Cabin\", axis = 1).join(split_cabin_test[[\"deck\", \"side\"]])\n",
    "\n",
    "train_data"
   ]
  },
  {
   "cell_type": "markdown",
   "id": "d884df71",
   "metadata": {
    "papermill": {
     "duration": 0.008011,
     "end_time": "2023-10-12T13:43:22.205795",
     "exception": false,
     "start_time": "2023-10-12T13:43:22.197784",
     "status": "completed"
    },
    "tags": []
   },
   "source": [
    "# Encoding the categorical data \n",
    "\n",
    "Note that in the precess we drop the columns: \"PassengerId\" ans \"Name\", as they are not needed."
   ]
  },
  {
   "cell_type": "markdown",
   "id": "44874c43",
   "metadata": {
    "papermill": {
     "duration": 0.007969,
     "end_time": "2023-10-12T13:43:22.222044",
     "exception": false,
     "start_time": "2023-10-12T13:43:22.214075",
     "status": "completed"
    },
    "tags": []
   },
   "source": [
    "### **It was wrong to Encode the HomePlanet, Destination, deck and side features with Ordinal Encoding as there is no meaningful order between them**\n",
    "\n",
    "Is planer Earth better then Europa? Is deck G higher than C and F? We don't know and can't tell.\n",
    "\n",
    "This will be fixed on the next version annd it's interesting to see how much of a difference it will make."
   ]
  },
  {
   "cell_type": "code",
   "execution_count": 8,
   "id": "099e1577",
   "metadata": {
    "execution": {
     "iopub.execute_input": "2023-10-12T13:43:22.240275Z",
     "iopub.status.busy": "2023-10-12T13:43:22.239911Z",
     "iopub.status.idle": "2023-10-12T13:43:23.338209Z",
     "shell.execute_reply": "2023-10-12T13:43:23.337479Z"
    },
    "papermill": {
     "duration": 1.109661,
     "end_time": "2023-10-12T13:43:23.340023",
     "exception": false,
     "start_time": "2023-10-12T13:43:22.230362",
     "status": "completed"
    },
    "tags": []
   },
   "outputs": [
    {
     "data": {
      "text/html": [
       "<div>\n",
       "<style scoped>\n",
       "    .dataframe tbody tr th:only-of-type {\n",
       "        vertical-align: middle;\n",
       "    }\n",
       "\n",
       "    .dataframe tbody tr th {\n",
       "        vertical-align: top;\n",
       "    }\n",
       "\n",
       "    .dataframe thead th {\n",
       "        text-align: right;\n",
       "    }\n",
       "</style>\n",
       "<table border=\"1\" class=\"dataframe\">\n",
       "  <thead>\n",
       "    <tr style=\"text-align: right;\">\n",
       "      <th></th>\n",
       "      <th>HomePlanet</th>\n",
       "      <th>CryoSleep</th>\n",
       "      <th>Destination</th>\n",
       "      <th>VIP</th>\n",
       "      <th>deck</th>\n",
       "      <th>side</th>\n",
       "      <th>Age</th>\n",
       "      <th>RoomService</th>\n",
       "      <th>FoodCourt</th>\n",
       "      <th>ShoppingMall</th>\n",
       "      <th>Spa</th>\n",
       "      <th>VRDeck</th>\n",
       "    </tr>\n",
       "  </thead>\n",
       "  <tbody>\n",
       "    <tr>\n",
       "      <th>0</th>\n",
       "      <td>0.0</td>\n",
       "      <td>1.0</td>\n",
       "      <td>2.0</td>\n",
       "      <td>0.0</td>\n",
       "      <td>6.0</td>\n",
       "      <td>1.0</td>\n",
       "      <td>27.0</td>\n",
       "      <td>0.0</td>\n",
       "      <td>0.0</td>\n",
       "      <td>0.0</td>\n",
       "      <td>0.0</td>\n",
       "      <td>0.0</td>\n",
       "    </tr>\n",
       "    <tr>\n",
       "      <th>1</th>\n",
       "      <td>0.0</td>\n",
       "      <td>0.0</td>\n",
       "      <td>2.0</td>\n",
       "      <td>0.0</td>\n",
       "      <td>5.0</td>\n",
       "      <td>1.0</td>\n",
       "      <td>19.0</td>\n",
       "      <td>0.0</td>\n",
       "      <td>9.0</td>\n",
       "      <td>0.0</td>\n",
       "      <td>2823.0</td>\n",
       "      <td>0.0</td>\n",
       "    </tr>\n",
       "    <tr>\n",
       "      <th>2</th>\n",
       "      <td>1.0</td>\n",
       "      <td>1.0</td>\n",
       "      <td>0.0</td>\n",
       "      <td>0.0</td>\n",
       "      <td>2.0</td>\n",
       "      <td>1.0</td>\n",
       "      <td>31.0</td>\n",
       "      <td>0.0</td>\n",
       "      <td>0.0</td>\n",
       "      <td>0.0</td>\n",
       "      <td>0.0</td>\n",
       "      <td>0.0</td>\n",
       "    </tr>\n",
       "    <tr>\n",
       "      <th>3</th>\n",
       "      <td>1.0</td>\n",
       "      <td>0.0</td>\n",
       "      <td>2.0</td>\n",
       "      <td>0.0</td>\n",
       "      <td>2.0</td>\n",
       "      <td>1.0</td>\n",
       "      <td>38.0</td>\n",
       "      <td>0.0</td>\n",
       "      <td>6652.0</td>\n",
       "      <td>0.0</td>\n",
       "      <td>181.0</td>\n",
       "      <td>585.0</td>\n",
       "    </tr>\n",
       "    <tr>\n",
       "      <th>4</th>\n",
       "      <td>0.0</td>\n",
       "      <td>0.0</td>\n",
       "      <td>2.0</td>\n",
       "      <td>0.0</td>\n",
       "      <td>5.0</td>\n",
       "      <td>1.0</td>\n",
       "      <td>20.0</td>\n",
       "      <td>10.0</td>\n",
       "      <td>0.0</td>\n",
       "      <td>635.0</td>\n",
       "      <td>0.0</td>\n",
       "      <td>0.0</td>\n",
       "    </tr>\n",
       "  </tbody>\n",
       "</table>\n",
       "</div>"
      ],
      "text/plain": [
       "   HomePlanet  CryoSleep  Destination  VIP  deck  side   Age  RoomService  \\\n",
       "0         0.0        1.0          2.0  0.0   6.0   1.0  27.0          0.0   \n",
       "1         0.0        0.0          2.0  0.0   5.0   1.0  19.0          0.0   \n",
       "2         1.0        1.0          0.0  0.0   2.0   1.0  31.0          0.0   \n",
       "3         1.0        0.0          2.0  0.0   2.0   1.0  38.0          0.0   \n",
       "4         0.0        0.0          2.0  0.0   5.0   1.0  20.0         10.0   \n",
       "\n",
       "   FoodCourt  ShoppingMall     Spa  VRDeck  \n",
       "0        0.0           0.0     0.0     0.0  \n",
       "1        9.0           0.0  2823.0     0.0  \n",
       "2        0.0           0.0     0.0     0.0  \n",
       "3     6652.0           0.0   181.0   585.0  \n",
       "4        0.0         635.0     0.0     0.0  "
      ]
     },
     "execution_count": 8,
     "metadata": {},
     "output_type": "execute_result"
    }
   ],
   "source": [
    "from sklearn.preprocessing import OrdinalEncoder\n",
    "\n",
    "categorical_data = [\"HomePlanet\", \"CryoSleep\", \"Destination\", \"VIP\", \"deck\", \"side\"]\n",
    "other_data = [\"Age\", \"RoomService\", \"FoodCourt\", \"ShoppingMall\", \"Spa\", \"VRDeck\"]\n",
    "\n",
    "encoder = OrdinalEncoder()\n",
    "\n",
    "temp_np_array = encoder.fit_transform(train_data[categorical_data])\n",
    "encoded_train_df = pd.DataFrame(data = temp_np_array, columns = categorical_data)\n",
    "train_data = encoded_train_df.join(train_data[other_data]).join(train_data[\"Transported\"])\n",
    "\n",
    "temp_np_array = encoder.transform(test_data[categorical_data])\n",
    "encoded_test_df = pd.DataFrame(data = temp_np_array, columns = categorical_data)\n",
    "test_data = encoded_test_df.join(test_data[other_data])\n",
    "\n",
    "test_data.head()"
   ]
  },
  {
   "cell_type": "markdown",
   "id": "69c268cb",
   "metadata": {
    "papermill": {
     "duration": 0.008213,
     "end_time": "2023-10-12T13:43:23.356787",
     "exception": false,
     "start_time": "2023-10-12T13:43:23.348574",
     "status": "completed"
    },
    "tags": []
   },
   "source": [
    "# Encoding the label"
   ]
  },
  {
   "cell_type": "code",
   "execution_count": 9,
   "id": "558ec443",
   "metadata": {
    "execution": {
     "iopub.execute_input": "2023-10-12T13:43:23.375118Z",
     "iopub.status.busy": "2023-10-12T13:43:23.374719Z",
     "iopub.status.idle": "2023-10-12T13:43:23.404995Z",
     "shell.execute_reply": "2023-10-12T13:43:23.403942Z"
    },
    "papermill": {
     "duration": 0.041948,
     "end_time": "2023-10-12T13:43:23.407227",
     "exception": false,
     "start_time": "2023-10-12T13:43:23.365279",
     "status": "completed"
    },
    "tags": []
   },
   "outputs": [
    {
     "data": {
      "text/html": [
       "<div>\n",
       "<style scoped>\n",
       "    .dataframe tbody tr th:only-of-type {\n",
       "        vertical-align: middle;\n",
       "    }\n",
       "\n",
       "    .dataframe tbody tr th {\n",
       "        vertical-align: top;\n",
       "    }\n",
       "\n",
       "    .dataframe thead th {\n",
       "        text-align: right;\n",
       "    }\n",
       "</style>\n",
       "<table border=\"1\" class=\"dataframe\">\n",
       "  <thead>\n",
       "    <tr style=\"text-align: right;\">\n",
       "      <th></th>\n",
       "      <th>HomePlanet</th>\n",
       "      <th>CryoSleep</th>\n",
       "      <th>Destination</th>\n",
       "      <th>VIP</th>\n",
       "      <th>deck</th>\n",
       "      <th>side</th>\n",
       "      <th>Age</th>\n",
       "      <th>RoomService</th>\n",
       "      <th>FoodCourt</th>\n",
       "      <th>ShoppingMall</th>\n",
       "      <th>Spa</th>\n",
       "      <th>VRDeck</th>\n",
       "      <th>Transported</th>\n",
       "    </tr>\n",
       "  </thead>\n",
       "  <tbody>\n",
       "    <tr>\n",
       "      <th>0</th>\n",
       "      <td>1.0</td>\n",
       "      <td>0.0</td>\n",
       "      <td>2.0</td>\n",
       "      <td>0.0</td>\n",
       "      <td>1.0</td>\n",
       "      <td>0.0</td>\n",
       "      <td>39.0</td>\n",
       "      <td>0.0</td>\n",
       "      <td>0.0</td>\n",
       "      <td>0.0</td>\n",
       "      <td>0.0</td>\n",
       "      <td>0.0</td>\n",
       "      <td>0.0</td>\n",
       "    </tr>\n",
       "    <tr>\n",
       "      <th>1</th>\n",
       "      <td>0.0</td>\n",
       "      <td>0.0</td>\n",
       "      <td>2.0</td>\n",
       "      <td>0.0</td>\n",
       "      <td>5.0</td>\n",
       "      <td>1.0</td>\n",
       "      <td>24.0</td>\n",
       "      <td>109.0</td>\n",
       "      <td>9.0</td>\n",
       "      <td>25.0</td>\n",
       "      <td>549.0</td>\n",
       "      <td>44.0</td>\n",
       "      <td>1.0</td>\n",
       "    </tr>\n",
       "    <tr>\n",
       "      <th>2</th>\n",
       "      <td>1.0</td>\n",
       "      <td>0.0</td>\n",
       "      <td>2.0</td>\n",
       "      <td>1.0</td>\n",
       "      <td>0.0</td>\n",
       "      <td>1.0</td>\n",
       "      <td>58.0</td>\n",
       "      <td>43.0</td>\n",
       "      <td>3576.0</td>\n",
       "      <td>0.0</td>\n",
       "      <td>6715.0</td>\n",
       "      <td>49.0</td>\n",
       "      <td>0.0</td>\n",
       "    </tr>\n",
       "    <tr>\n",
       "      <th>3</th>\n",
       "      <td>1.0</td>\n",
       "      <td>0.0</td>\n",
       "      <td>2.0</td>\n",
       "      <td>0.0</td>\n",
       "      <td>0.0</td>\n",
       "      <td>1.0</td>\n",
       "      <td>33.0</td>\n",
       "      <td>0.0</td>\n",
       "      <td>1283.0</td>\n",
       "      <td>371.0</td>\n",
       "      <td>3329.0</td>\n",
       "      <td>193.0</td>\n",
       "      <td>0.0</td>\n",
       "    </tr>\n",
       "    <tr>\n",
       "      <th>4</th>\n",
       "      <td>0.0</td>\n",
       "      <td>0.0</td>\n",
       "      <td>2.0</td>\n",
       "      <td>0.0</td>\n",
       "      <td>5.0</td>\n",
       "      <td>1.0</td>\n",
       "      <td>16.0</td>\n",
       "      <td>303.0</td>\n",
       "      <td>70.0</td>\n",
       "      <td>151.0</td>\n",
       "      <td>565.0</td>\n",
       "      <td>2.0</td>\n",
       "      <td>1.0</td>\n",
       "    </tr>\n",
       "    <tr>\n",
       "      <th>5</th>\n",
       "      <td>0.0</td>\n",
       "      <td>0.0</td>\n",
       "      <td>1.0</td>\n",
       "      <td>0.0</td>\n",
       "      <td>5.0</td>\n",
       "      <td>0.0</td>\n",
       "      <td>44.0</td>\n",
       "      <td>0.0</td>\n",
       "      <td>483.0</td>\n",
       "      <td>0.0</td>\n",
       "      <td>291.0</td>\n",
       "      <td>0.0</td>\n",
       "      <td>1.0</td>\n",
       "    </tr>\n",
       "    <tr>\n",
       "      <th>6</th>\n",
       "      <td>0.0</td>\n",
       "      <td>0.0</td>\n",
       "      <td>2.0</td>\n",
       "      <td>0.0</td>\n",
       "      <td>5.0</td>\n",
       "      <td>1.0</td>\n",
       "      <td>26.0</td>\n",
       "      <td>42.0</td>\n",
       "      <td>1539.0</td>\n",
       "      <td>3.0</td>\n",
       "      <td>0.0</td>\n",
       "      <td>0.0</td>\n",
       "      <td>1.0</td>\n",
       "    </tr>\n",
       "    <tr>\n",
       "      <th>7</th>\n",
       "      <td>0.0</td>\n",
       "      <td>1.0</td>\n",
       "      <td>2.0</td>\n",
       "      <td>0.0</td>\n",
       "      <td>6.0</td>\n",
       "      <td>1.0</td>\n",
       "      <td>28.0</td>\n",
       "      <td>0.0</td>\n",
       "      <td>0.0</td>\n",
       "      <td>0.0</td>\n",
       "      <td>0.0</td>\n",
       "      <td>NaN</td>\n",
       "      <td>1.0</td>\n",
       "    </tr>\n",
       "    <tr>\n",
       "      <th>8</th>\n",
       "      <td>0.0</td>\n",
       "      <td>0.0</td>\n",
       "      <td>2.0</td>\n",
       "      <td>0.0</td>\n",
       "      <td>5.0</td>\n",
       "      <td>1.0</td>\n",
       "      <td>35.0</td>\n",
       "      <td>0.0</td>\n",
       "      <td>785.0</td>\n",
       "      <td>17.0</td>\n",
       "      <td>216.0</td>\n",
       "      <td>0.0</td>\n",
       "      <td>1.0</td>\n",
       "    </tr>\n",
       "    <tr>\n",
       "      <th>9</th>\n",
       "      <td>1.0</td>\n",
       "      <td>1.0</td>\n",
       "      <td>0.0</td>\n",
       "      <td>0.0</td>\n",
       "      <td>1.0</td>\n",
       "      <td>0.0</td>\n",
       "      <td>14.0</td>\n",
       "      <td>0.0</td>\n",
       "      <td>0.0</td>\n",
       "      <td>0.0</td>\n",
       "      <td>0.0</td>\n",
       "      <td>0.0</td>\n",
       "      <td>1.0</td>\n",
       "    </tr>\n",
       "    <tr>\n",
       "      <th>10</th>\n",
       "      <td>1.0</td>\n",
       "      <td>1.0</td>\n",
       "      <td>2.0</td>\n",
       "      <td>0.0</td>\n",
       "      <td>1.0</td>\n",
       "      <td>0.0</td>\n",
       "      <td>34.0</td>\n",
       "      <td>0.0</td>\n",
       "      <td>0.0</td>\n",
       "      <td>NaN</td>\n",
       "      <td>0.0</td>\n",
       "      <td>0.0</td>\n",
       "      <td>1.0</td>\n",
       "    </tr>\n",
       "    <tr>\n",
       "      <th>11</th>\n",
       "      <td>1.0</td>\n",
       "      <td>0.0</td>\n",
       "      <td>0.0</td>\n",
       "      <td>0.0</td>\n",
       "      <td>1.0</td>\n",
       "      <td>0.0</td>\n",
       "      <td>45.0</td>\n",
       "      <td>39.0</td>\n",
       "      <td>7295.0</td>\n",
       "      <td>589.0</td>\n",
       "      <td>110.0</td>\n",
       "      <td>124.0</td>\n",
       "      <td>1.0</td>\n",
       "    </tr>\n",
       "    <tr>\n",
       "      <th>12</th>\n",
       "      <td>2.0</td>\n",
       "      <td>0.0</td>\n",
       "      <td>2.0</td>\n",
       "      <td>0.0</td>\n",
       "      <td>5.0</td>\n",
       "      <td>0.0</td>\n",
       "      <td>32.0</td>\n",
       "      <td>73.0</td>\n",
       "      <td>0.0</td>\n",
       "      <td>1123.0</td>\n",
       "      <td>0.0</td>\n",
       "      <td>113.0</td>\n",
       "      <td>1.0</td>\n",
       "    </tr>\n",
       "    <tr>\n",
       "      <th>13</th>\n",
       "      <td>0.0</td>\n",
       "      <td>0.0</td>\n",
       "      <td>2.0</td>\n",
       "      <td>0.0</td>\n",
       "      <td>6.0</td>\n",
       "      <td>1.0</td>\n",
       "      <td>48.0</td>\n",
       "      <td>719.0</td>\n",
       "      <td>1.0</td>\n",
       "      <td>65.0</td>\n",
       "      <td>0.0</td>\n",
       "      <td>24.0</td>\n",
       "      <td>0.0</td>\n",
       "    </tr>\n",
       "    <tr>\n",
       "      <th>14</th>\n",
       "      <td>0.0</td>\n",
       "      <td>0.0</td>\n",
       "      <td>2.0</td>\n",
       "      <td>0.0</td>\n",
       "      <td>5.0</td>\n",
       "      <td>0.0</td>\n",
       "      <td>28.0</td>\n",
       "      <td>8.0</td>\n",
       "      <td>974.0</td>\n",
       "      <td>12.0</td>\n",
       "      <td>2.0</td>\n",
       "      <td>7.0</td>\n",
       "      <td>1.0</td>\n",
       "    </tr>\n",
       "  </tbody>\n",
       "</table>\n",
       "</div>"
      ],
      "text/plain": [
       "    HomePlanet  CryoSleep  Destination  VIP  deck  side   Age  RoomService  \\\n",
       "0          1.0        0.0          2.0  0.0   1.0   0.0  39.0          0.0   \n",
       "1          0.0        0.0          2.0  0.0   5.0   1.0  24.0        109.0   \n",
       "2          1.0        0.0          2.0  1.0   0.0   1.0  58.0         43.0   \n",
       "3          1.0        0.0          2.0  0.0   0.0   1.0  33.0          0.0   \n",
       "4          0.0        0.0          2.0  0.0   5.0   1.0  16.0        303.0   \n",
       "5          0.0        0.0          1.0  0.0   5.0   0.0  44.0          0.0   \n",
       "6          0.0        0.0          2.0  0.0   5.0   1.0  26.0         42.0   \n",
       "7          0.0        1.0          2.0  0.0   6.0   1.0  28.0          0.0   \n",
       "8          0.0        0.0          2.0  0.0   5.0   1.0  35.0          0.0   \n",
       "9          1.0        1.0          0.0  0.0   1.0   0.0  14.0          0.0   \n",
       "10         1.0        1.0          2.0  0.0   1.0   0.0  34.0          0.0   \n",
       "11         1.0        0.0          0.0  0.0   1.0   0.0  45.0         39.0   \n",
       "12         2.0        0.0          2.0  0.0   5.0   0.0  32.0         73.0   \n",
       "13         0.0        0.0          2.0  0.0   6.0   1.0  48.0        719.0   \n",
       "14         0.0        0.0          2.0  0.0   5.0   0.0  28.0          8.0   \n",
       "\n",
       "    FoodCourt  ShoppingMall     Spa  VRDeck  Transported  \n",
       "0         0.0           0.0     0.0     0.0          0.0  \n",
       "1         9.0          25.0   549.0    44.0          1.0  \n",
       "2      3576.0           0.0  6715.0    49.0          0.0  \n",
       "3      1283.0         371.0  3329.0   193.0          0.0  \n",
       "4        70.0         151.0   565.0     2.0          1.0  \n",
       "5       483.0           0.0   291.0     0.0          1.0  \n",
       "6      1539.0           3.0     0.0     0.0          1.0  \n",
       "7         0.0           0.0     0.0     NaN          1.0  \n",
       "8       785.0          17.0   216.0     0.0          1.0  \n",
       "9         0.0           0.0     0.0     0.0          1.0  \n",
       "10        0.0           NaN     0.0     0.0          1.0  \n",
       "11     7295.0         589.0   110.0   124.0          1.0  \n",
       "12        0.0        1123.0     0.0   113.0          1.0  \n",
       "13        1.0          65.0     0.0    24.0          0.0  \n",
       "14      974.0          12.0     2.0     7.0          1.0  "
      ]
     },
     "execution_count": 9,
     "metadata": {},
     "output_type": "execute_result"
    }
   ],
   "source": [
    "train_data[\"Transported\"] = train_data[\"Transported\"].transform(lambda x: 1.0 if x == True else 0.0)\n",
    "\n",
    "train_data.head(15)\n"
   ]
  },
  {
   "cell_type": "markdown",
   "id": "77ace41c",
   "metadata": {
    "papermill": {
     "duration": 0.010104,
     "end_time": "2023-10-12T13:43:23.426162",
     "exception": false,
     "start_time": "2023-10-12T13:43:23.416058",
     "status": "completed"
    },
    "tags": []
   },
   "source": [
    "# Checking for NaN values"
   ]
  },
  {
   "cell_type": "code",
   "execution_count": 10,
   "id": "cf5416ad",
   "metadata": {
    "execution": {
     "iopub.execute_input": "2023-10-12T13:43:23.446434Z",
     "iopub.status.busy": "2023-10-12T13:43:23.445823Z",
     "iopub.status.idle": "2023-10-12T13:43:23.453761Z",
     "shell.execute_reply": "2023-10-12T13:43:23.452937Z"
    },
    "papermill": {
     "duration": 0.020288,
     "end_time": "2023-10-12T13:43:23.455621",
     "exception": false,
     "start_time": "2023-10-12T13:43:23.435333",
     "status": "completed"
    },
    "tags": []
   },
   "outputs": [
    {
     "data": {
      "text/plain": [
       "HomePlanet      201\n",
       "CryoSleep       217\n",
       "Destination     182\n",
       "VIP             203\n",
       "deck            199\n",
       "side            199\n",
       "Age             179\n",
       "RoomService     181\n",
       "FoodCourt       183\n",
       "ShoppingMall    208\n",
       "Spa             183\n",
       "VRDeck          188\n",
       "Transported       0\n",
       "dtype: int64"
      ]
     },
     "execution_count": 10,
     "metadata": {},
     "output_type": "execute_result"
    }
   ],
   "source": [
    "train_data.isna().sum()"
   ]
  },
  {
   "cell_type": "code",
   "execution_count": 11,
   "id": "6e7a1562",
   "metadata": {
    "execution": {
     "iopub.execute_input": "2023-10-12T13:43:23.475143Z",
     "iopub.status.busy": "2023-10-12T13:43:23.474780Z",
     "iopub.status.idle": "2023-10-12T13:43:23.480556Z",
     "shell.execute_reply": "2023-10-12T13:43:23.479603Z"
    },
    "papermill": {
     "duration": 0.018074,
     "end_time": "2023-10-12T13:43:23.482612",
     "exception": false,
     "start_time": "2023-10-12T13:43:23.464538",
     "status": "completed"
    },
    "tags": []
   },
   "outputs": [
    {
     "data": {
      "text/plain": [
       "2323"
      ]
     },
     "execution_count": 11,
     "metadata": {},
     "output_type": "execute_result"
    }
   ],
   "source": [
    "201 + 217 + 182 + 203 + 199 + 199 + 179 + 181 + 183 + 208 + 183 + 188\n",
    "#number of missing values"
   ]
  },
  {
   "cell_type": "code",
   "execution_count": 12,
   "id": "c2278788",
   "metadata": {
    "execution": {
     "iopub.execute_input": "2023-10-12T13:43:23.502647Z",
     "iopub.status.busy": "2023-10-12T13:43:23.502320Z",
     "iopub.status.idle": "2023-10-12T13:43:23.510366Z",
     "shell.execute_reply": "2023-10-12T13:43:23.509333Z"
    },
    "papermill": {
     "duration": 0.020759,
     "end_time": "2023-10-12T13:43:23.512491",
     "exception": false,
     "start_time": "2023-10-12T13:43:23.491732",
     "status": "completed"
    },
    "tags": []
   },
   "outputs": [
    {
     "data": {
      "text/plain": [
       "1929"
      ]
     },
     "execution_count": 12,
     "metadata": {},
     "output_type": "execute_result"
    }
   ],
   "source": [
    "train_data[train_data.isnull().any(axis=1)].shape[0]\n",
    "#rows which have at least one missing value"
   ]
  },
  {
   "cell_type": "code",
   "execution_count": 13,
   "id": "a833b9aa",
   "metadata": {
    "execution": {
     "iopub.execute_input": "2023-10-12T13:43:23.532343Z",
     "iopub.status.busy": "2023-10-12T13:43:23.531970Z",
     "iopub.status.idle": "2023-10-12T13:43:23.537735Z",
     "shell.execute_reply": "2023-10-12T13:43:23.536743Z"
    },
    "papermill": {
     "duration": 0.018122,
     "end_time": "2023-10-12T13:43:23.539789",
     "exception": false,
     "start_time": "2023-10-12T13:43:23.521667",
     "status": "completed"
    },
    "tags": []
   },
   "outputs": [
    {
     "data": {
      "text/plain": [
       "394"
      ]
     },
     "execution_count": 13,
     "metadata": {},
     "output_type": "execute_result"
    }
   ],
   "source": [
    "2323 - 1929"
   ]
  },
  {
   "cell_type": "markdown",
   "id": "664a3e8a",
   "metadata": {
    "papermill": {
     "duration": 0.008789,
     "end_time": "2023-10-12T13:43:23.557821",
     "exception": false,
     "start_time": "2023-10-12T13:43:23.549032",
     "status": "completed"
    },
    "tags": []
   },
   "source": [
    "We can see that there are only 2323 - 1929 = 394 rows which have more than one missing values.\n",
    "\n",
    "If this numer were larger, it would have meant most of the missing data appeared on those rows - and we'd remove them since they were useless (filled with mostly missng data).\n",
    "\n",
    "Since this is not the case, and each feature has a relatively small number of missing data, we'll impute them instead."
   ]
  },
  {
   "cell_type": "markdown",
   "id": "2d0230a3",
   "metadata": {
    "papermill": {
     "duration": 0.008964,
     "end_time": "2023-10-12T13:43:23.632232",
     "exception": false,
     "start_time": "2023-10-12T13:43:23.623268",
     "status": "completed"
    },
    "tags": []
   },
   "source": [
    "## Imputing the continous features first \n",
    "\n",
    "Which are Age, RoomService, FoodCourt, ShoppingMall, Spa, VRDeck\n",
    "\n",
    "we'll check first if they need to be normalized"
   ]
  },
  {
   "cell_type": "code",
   "execution_count": 14,
   "id": "8aeac1ed",
   "metadata": {
    "execution": {
     "iopub.execute_input": "2023-10-12T13:43:23.652144Z",
     "iopub.status.busy": "2023-10-12T13:43:23.651775Z",
     "iopub.status.idle": "2023-10-12T13:43:25.864723Z",
     "shell.execute_reply": "2023-10-12T13:43:25.863701Z"
    },
    "papermill": {
     "duration": 2.225449,
     "end_time": "2023-10-12T13:43:25.866811",
     "exception": false,
     "start_time": "2023-10-12T13:43:23.641362",
     "status": "completed"
    },
    "tags": []
   },
   "outputs": [
    {
     "data": {
      "image/png": "[encoded data removed]",
      "text/plain": [
       "<Figure size 640x480 with 1 Axes>"
      ]
     },
     "metadata": {},
     "output_type": "display_data"
    },
    {
     "data": {
      "image/png": "[encoded data removed]",
      "text/plain": [
       "<Figure size 640x480 with 1 Axes>"
      ]
     },
     "metadata": {},
     "output_type": "display_data"
    },
    {
     "data": {
      "image/png": "[encoded data removed]",
      "text/plain": [
       "<Figure size 640x480 with 1 Axes>"
      ]
     },
     "metadata": {},
     "output_type": "display_data"
    },
    {
     "data": {
      "image/png": "[encoded data removed]",
      "text/plain": [
       "<Figure size 640x480 with 1 Axes>"
      ]
     },
     "metadata": {},
     "output_type": "display_data"
    },
    {
     "data": {
      "image/png": "[encoded data removed]",
      "text/plain": [
       "<Figure size 640x480 with 1 Axes>"
      ]
     },
     "metadata": {},
     "output_type": "display_data"
    },
    {
     "data": {
      "image/png": "[encoded data removed]",
      "text/plain": [
       "<Figure size 640x480 with 1 Axes>"
      ]
     },
     "metadata": {},
     "output_type": "display_data"
    }
   ],
   "source": [
    "import matplotlib.pyplot as plt\n",
    "import seaborn as sns\n",
    "\n",
    "continous = [\"Age\", \"RoomService\", \"FoodCourt\", \"ShoppingMall\", \"Spa\", \"VRDeck\"]\n",
    "\n",
    "for feature in continous:\n",
    "    plt.figure() #this creates a new figure on which each plot will appear\n",
    "    sns.kdeplot (train_data[feature])\n",
    "    #sns.boxplot (train_data[feature])"
   ]
  },
  {
   "cell_type": "markdown",
   "id": "12b5e681",
   "metadata": {
    "papermill": {
     "duration": 0.01159,
     "end_time": "2023-10-12T13:43:25.890331",
     "exception": false,
     "start_time": "2023-10-12T13:43:25.878741",
     "status": "completed"
    },
    "tags": []
   },
   "source": [
    "### We can see the each feature is distributed fairly normally (with positive values), but Age and the other featrues are on completely different scale,\n",
    "\n",
    "### and that might not sit well with some models. So we'll scale the continous data.\n",
    "\n",
    " As for outliers we can see a single anomily only in \"ShoppingMall\",\n",
    "\n",
    "but it does make sense that it could be a real observation of someone who spent a lot more than the rest."
   ]
  },
  {
   "cell_type": "markdown",
   "id": "606354ab",
   "metadata": {
    "papermill": {
     "duration": 0.011557,
     "end_time": "2023-10-12T13:43:25.913658",
     "exception": false,
     "start_time": "2023-10-12T13:43:25.902101",
     "status": "completed"
    },
    "tags": []
   },
   "source": [
    "# Scaling"
   ]
  },
  {
   "cell_type": "code",
   "execution_count": 15,
   "id": "ccf5e8b8",
   "metadata": {
    "execution": {
     "iopub.execute_input": "2023-10-12T13:43:25.938987Z",
     "iopub.status.busy": "2023-10-12T13:43:25.938621Z",
     "iopub.status.idle": "2023-10-12T13:43:25.993829Z",
     "shell.execute_reply": "2023-10-12T13:43:25.992773Z"
    },
    "papermill": {
     "duration": 0.070519,
     "end_time": "2023-10-12T13:43:25.996028",
     "exception": false,
     "start_time": "2023-10-12T13:43:25.925509",
     "status": "completed"
    },
    "tags": []
   },
   "outputs": [
    {
     "data": {
      "text/html": [
       "<div>\n",
       "<style scoped>\n",
       "    .dataframe tbody tr th:only-of-type {\n",
       "        vertical-align: middle;\n",
       "    }\n",
       "\n",
       "    .dataframe tbody tr th {\n",
       "        vertical-align: top;\n",
       "    }\n",
       "\n",
       "    .dataframe thead th {\n",
       "        text-align: right;\n",
       "    }\n",
       "</style>\n",
       "<table border=\"1\" class=\"dataframe\">\n",
       "  <thead>\n",
       "    <tr style=\"text-align: right;\">\n",
       "      <th></th>\n",
       "      <th>HomePlanet</th>\n",
       "      <th>CryoSleep</th>\n",
       "      <th>Destination</th>\n",
       "      <th>VIP</th>\n",
       "      <th>deck</th>\n",
       "      <th>side</th>\n",
       "      <th>Age</th>\n",
       "      <th>RoomService</th>\n",
       "      <th>FoodCourt</th>\n",
       "      <th>ShoppingMall</th>\n",
       "      <th>Spa</th>\n",
       "      <th>VRDeck</th>\n",
       "      <th>Transported</th>\n",
       "    </tr>\n",
       "  </thead>\n",
       "  <tbody>\n",
       "    <tr>\n",
       "      <th>count</th>\n",
       "      <td>8492.000000</td>\n",
       "      <td>8476.000000</td>\n",
       "      <td>8511.000000</td>\n",
       "      <td>8490.000000</td>\n",
       "      <td>8494.000000</td>\n",
       "      <td>8494.000000</td>\n",
       "      <td>8514.000000</td>\n",
       "      <td>8512.000000</td>\n",
       "      <td>8510.000000</td>\n",
       "      <td>8485.000000</td>\n",
       "      <td>8510.000000</td>\n",
       "      <td>8505.000000</td>\n",
       "      <td>8693.000000</td>\n",
       "    </tr>\n",
       "    <tr>\n",
       "      <th>mean</th>\n",
       "      <td>0.665214</td>\n",
       "      <td>0.358306</td>\n",
       "      <td>1.483492</td>\n",
       "      <td>0.023439</td>\n",
       "      <td>4.305392</td>\n",
       "      <td>0.504827</td>\n",
       "      <td>0.364911</td>\n",
       "      <td>0.015683</td>\n",
       "      <td>0.015365</td>\n",
       "      <td>0.007395</td>\n",
       "      <td>0.013885</td>\n",
       "      <td>0.012632</td>\n",
       "      <td>0.503624</td>\n",
       "    </tr>\n",
       "    <tr>\n",
       "      <th>std</th>\n",
       "      <td>0.798155</td>\n",
       "      <td>0.479531</td>\n",
       "      <td>0.820237</td>\n",
       "      <td>0.151303</td>\n",
       "      <td>1.778233</td>\n",
       "      <td>0.500006</td>\n",
       "      <td>0.183405</td>\n",
       "      <td>0.046536</td>\n",
       "      <td>0.054053</td>\n",
       "      <td>0.025741</td>\n",
       "      <td>0.050728</td>\n",
       "      <td>0.047475</td>\n",
       "      <td>0.500016</td>\n",
       "    </tr>\n",
       "    <tr>\n",
       "      <th>min</th>\n",
       "      <td>0.000000</td>\n",
       "      <td>0.000000</td>\n",
       "      <td>0.000000</td>\n",
       "      <td>0.000000</td>\n",
       "      <td>0.000000</td>\n",
       "      <td>0.000000</td>\n",
       "      <td>0.000000</td>\n",
       "      <td>0.000000</td>\n",
       "      <td>0.000000</td>\n",
       "      <td>0.000000</td>\n",
       "      <td>0.000000</td>\n",
       "      <td>0.000000</td>\n",
       "      <td>0.000000</td>\n",
       "    </tr>\n",
       "    <tr>\n",
       "      <th>25%</th>\n",
       "      <td>0.000000</td>\n",
       "      <td>0.000000</td>\n",
       "      <td>1.000000</td>\n",
       "      <td>0.000000</td>\n",
       "      <td>3.000000</td>\n",
       "      <td>0.000000</td>\n",
       "      <td>0.240506</td>\n",
       "      <td>0.000000</td>\n",
       "      <td>0.000000</td>\n",
       "      <td>0.000000</td>\n",
       "      <td>0.000000</td>\n",
       "      <td>0.000000</td>\n",
       "      <td>0.000000</td>\n",
       "    </tr>\n",
       "    <tr>\n",
       "      <th>50%</th>\n",
       "      <td>0.000000</td>\n",
       "      <td>0.000000</td>\n",
       "      <td>2.000000</td>\n",
       "      <td>0.000000</td>\n",
       "      <td>5.000000</td>\n",
       "      <td>1.000000</td>\n",
       "      <td>0.341772</td>\n",
       "      <td>0.000000</td>\n",
       "      <td>0.000000</td>\n",
       "      <td>0.000000</td>\n",
       "      <td>0.000000</td>\n",
       "      <td>0.000000</td>\n",
       "      <td>1.000000</td>\n",
       "    </tr>\n",
       "    <tr>\n",
       "      <th>75%</th>\n",
       "      <td>1.000000</td>\n",
       "      <td>1.000000</td>\n",
       "      <td>2.000000</td>\n",
       "      <td>0.000000</td>\n",
       "      <td>6.000000</td>\n",
       "      <td>1.000000</td>\n",
       "      <td>0.481013</td>\n",
       "      <td>0.003281</td>\n",
       "      <td>0.002549</td>\n",
       "      <td>0.001149</td>\n",
       "      <td>0.002633</td>\n",
       "      <td>0.001906</td>\n",
       "      <td>1.000000</td>\n",
       "    </tr>\n",
       "    <tr>\n",
       "      <th>max</th>\n",
       "      <td>2.000000</td>\n",
       "      <td>1.000000</td>\n",
       "      <td>2.000000</td>\n",
       "      <td>1.000000</td>\n",
       "      <td>7.000000</td>\n",
       "      <td>1.000000</td>\n",
       "      <td>1.000000</td>\n",
       "      <td>1.000000</td>\n",
       "      <td>1.000000</td>\n",
       "      <td>1.000000</td>\n",
       "      <td>1.000000</td>\n",
       "      <td>1.000000</td>\n",
       "      <td>1.000000</td>\n",
       "    </tr>\n",
       "  </tbody>\n",
       "</table>\n",
       "</div>"
      ],
      "text/plain": [
       "        HomePlanet    CryoSleep  Destination          VIP         deck  \\\n",
       "count  8492.000000  8476.000000  8511.000000  8490.000000  8494.000000   \n",
       "mean      0.665214     0.358306     1.483492     0.023439     4.305392   \n",
       "std       0.798155     0.479531     0.820237     0.151303     1.778233   \n",
       "min       0.000000     0.000000     0.000000     0.000000     0.000000   \n",
       "25%       0.000000     0.000000     1.000000     0.000000     3.000000   \n",
       "50%       0.000000     0.000000     2.000000     0.000000     5.000000   \n",
       "75%       1.000000     1.000000     2.000000     0.000000     6.000000   \n",
       "max       2.000000     1.000000     2.000000     1.000000     7.000000   \n",
       "\n",
       "              side          Age  RoomService    FoodCourt  ShoppingMall  \\\n",
       "count  8494.000000  8514.000000  8512.000000  8510.000000   8485.000000   \n",
       "mean      0.504827     0.364911     0.015683     0.015365      0.007395   \n",
       "std       0.500006     0.183405     0.046536     0.054053      0.025741   \n",
       "min       0.000000     0.000000     0.000000     0.000000      0.000000   \n",
       "25%       0.000000     0.240506     0.000000     0.000000      0.000000   \n",
       "50%       1.000000     0.341772     0.000000     0.000000      0.000000   \n",
       "75%       1.000000     0.481013     0.003281     0.002549      0.001149   \n",
       "max       1.000000     1.000000     1.000000     1.000000      1.000000   \n",
       "\n",
       "               Spa       VRDeck  Transported  \n",
       "count  8510.000000  8505.000000  8693.000000  \n",
       "mean      0.013885     0.012632     0.503624  \n",
       "std       0.050728     0.047475     0.500016  \n",
       "min       0.000000     0.000000     0.000000  \n",
       "25%       0.000000     0.000000     0.000000  \n",
       "50%       0.000000     0.000000     1.000000  \n",
       "75%       0.002633     0.001906     1.000000  \n",
       "max       1.000000     1.000000     1.000000  "
      ]
     },
     "execution_count": 15,
     "metadata": {},
     "output_type": "execute_result"
    }
   ],
   "source": [
    "from sklearn.preprocessing import MinMaxScaler\n",
    "\n",
    "scaler = MinMaxScaler()\n",
    "\n",
    "train_data[continous] = scaler.fit_transform(train_data[continous])\n",
    "test_data[continous] = scaler.transform(test_data[continous])\n",
    "\n",
    "train_data.describe()"
   ]
  },
  {
   "cell_type": "markdown",
   "id": "63693826",
   "metadata": {
    "papermill": {
     "duration": 0.012427,
     "end_time": "2023-10-12T13:43:26.021751",
     "exception": false,
     "start_time": "2023-10-12T13:43:26.009324",
     "status": "completed"
    },
    "tags": []
   },
   "source": [
    "### Now heaving the data scaled, we can fill in the missing values"
   ]
  },
  {
   "cell_type": "code",
   "execution_count": 16,
   "id": "3f039cb0",
   "metadata": {
    "execution": {
     "iopub.execute_input": "2023-10-12T13:43:26.049457Z",
     "iopub.status.busy": "2023-10-12T13:43:26.048469Z",
     "iopub.status.idle": "2023-10-12T13:43:26.394241Z",
     "shell.execute_reply": "2023-10-12T13:43:26.393284Z"
    },
    "papermill": {
     "duration": 0.362078,
     "end_time": "2023-10-12T13:43:26.396483",
     "exception": false,
     "start_time": "2023-10-12T13:43:26.034405",
     "status": "completed"
    },
    "tags": []
   },
   "outputs": [
    {
     "data": {
      "text/plain": [
       "HomePlanet      0\n",
       "CryoSleep       0\n",
       "Destination     0\n",
       "VIP             0\n",
       "deck            0\n",
       "side            0\n",
       "Age             0\n",
       "RoomService     0\n",
       "FoodCourt       0\n",
       "ShoppingMall    0\n",
       "Spa             0\n",
       "VRDeck          0\n",
       "dtype: int64"
      ]
     },
     "execution_count": 16,
     "metadata": {},
     "output_type": "execute_result"
    }
   ],
   "source": [
    "from sklearn.impute import SimpleImputer\n",
    "\n",
    "continous_imp = SimpleImputer (strategy='mean') #this is also the standard option\n",
    "discrete_imp = SimpleImputer (strategy='most_frequent')\n",
    "\n",
    "discrete = [\"HomePlanet\", \"CryoSleep\", \"Destination\", \"VIP\", \"deck\", \"side\"]\n",
    "\n",
    "train_data[continous] = continous_imp.fit_transform(train_data[continous])\n",
    "train_data[discrete] = discrete_imp.fit_transform(train_data[discrete])\n",
    "\n",
    "test_data[continous] = continous_imp.transform(test_data[continous])\n",
    "test_data[discrete] = discrete_imp.transform(test_data[discrete])\n",
    "\n",
    "test_data.isna().sum()\n",
    "# There is no more missind data on bothe the train and test sets."
   ]
  },
  {
   "cell_type": "markdown",
   "id": "4426d283",
   "metadata": {
    "papermill": {
     "duration": 0.012726,
     "end_time": "2023-10-12T13:43:26.421786",
     "exception": false,
     "start_time": "2023-10-12T13:43:26.409060",
     "status": "completed"
    },
    "tags": []
   },
   "source": [
    "### Now we can probably start training model and see which is the best with cross validation before choosing one and running it on the test set\n",
    "\n",
    "First well create the models and test them with their default parameters."
   ]
  },
  {
   "cell_type": "markdown",
   "id": "ae97b95c",
   "metadata": {
    "papermill": {
     "duration": 0.012562,
     "end_time": "2023-10-12T13:43:26.448360",
     "exception": false,
     "start_time": "2023-10-12T13:43:26.435798",
     "status": "completed"
    },
    "tags": []
   },
   "source": [
    "# Model Training"
   ]
  },
  {
   "cell_type": "code",
   "execution_count": 17,
   "id": "369686fb",
   "metadata": {
    "execution": {
     "iopub.execute_input": "2023-10-12T13:43:26.475742Z",
     "iopub.status.busy": "2023-10-12T13:43:26.474820Z",
     "iopub.status.idle": "2023-10-12T13:43:26.806405Z",
     "shell.execute_reply": "2023-10-12T13:43:26.805510Z"
    },
    "papermill": {
     "duration": 0.34767,
     "end_time": "2023-10-12T13:43:26.808635",
     "exception": false,
     "start_time": "2023-10-12T13:43:26.460965",
     "status": "completed"
    },
    "tags": []
   },
   "outputs": [],
   "source": [
    "from sklearn.linear_model import LogisticRegression\n",
    "from sklearn.svm import SVC\n",
    "from sklearn.naive_bayes import GaussianNB\n",
    "from sklearn.ensemble import RandomForestClassifier\n",
    "import xgboost\n",
    "\n",
    "logistic_regression = LogisticRegression(max_iter=1000, random_state = 0)\n",
    "svc = SVC(random_state = 0)\n",
    "naive_bayes = GaussianNB()\n",
    "random_forest = RandomForestClassifier(random_state = 0)\n",
    "xgb = xgboost.XGBClassifier(random_state = 0)"
   ]
  },
  {
   "cell_type": "code",
   "execution_count": 18,
   "id": "ef419626",
   "metadata": {
    "execution": {
     "iopub.execute_input": "2023-10-12T13:43:26.835107Z",
     "iopub.status.busy": "2023-10-12T13:43:26.834751Z",
     "iopub.status.idle": "2023-10-12T13:43:26.842241Z",
     "shell.execute_reply": "2023-10-12T13:43:26.841218Z"
    },
    "papermill": {
     "duration": 0.022886,
     "end_time": "2023-10-12T13:43:26.844065",
     "exception": false,
     "start_time": "2023-10-12T13:43:26.821179",
     "status": "completed"
    },
    "tags": []
   },
   "outputs": [],
   "source": [
    "from sklearn.model_selection import cross_val_score\n",
    "\n",
    "X = train_data.copy()\n",
    "y = X.pop (\"Transported\") #pop extracts the desired column and drops it from the dataset if came from."
   ]
  },
  {
   "cell_type": "code",
   "execution_count": 19,
   "id": "a90ea327",
   "metadata": {
    "execution": {
     "iopub.execute_input": "2023-10-12T13:43:26.870765Z",
     "iopub.status.busy": "2023-10-12T13:43:26.870379Z",
     "iopub.status.idle": "2023-10-12T13:43:45.595920Z",
     "shell.execute_reply": "2023-10-12T13:43:45.595062Z"
    },
    "papermill": {
     "duration": 18.74196,
     "end_time": "2023-10-12T13:43:45.598691",
     "exception": false,
     "start_time": "2023-10-12T13:43:26.856731",
     "status": "completed"
    },
    "tags": []
   },
   "outputs": [],
   "source": [
    "# The model is tested on \"accuracy\" so this scorer will make sure our model are also tested on accuracy (and not their default scoring matric) in the cross validation.\n",
    "from sklearn.metrics import make_scorer, accuracy_score\n",
    "\n",
    "accuracy_scorer = make_scorer(accuracy_score)\n",
    "\n",
    "logistic_regression_scores = cross_val_score(logistic_regression, X, y, scoring = accuracy_scorer, cv = 5)\n",
    "svc_scores = cross_val_score(svc, X, y, scoring = accuracy_scorer, cv = 5)\n",
    "naive_bayes_scores = cross_val_score(naive_bayes, X, y, scoring = accuracy_scorer, cv = 5)\n",
    "random_forest_scores = cross_val_score(random_forest, X, y, scoring = accuracy_scorer, cv = 5)\n",
    "xgb_scores = cross_val_score(xgb, X, y, scoring = accuracy_scorer, cv = 5)"
   ]
  },
  {
   "cell_type": "code",
   "execution_count": 20,
   "id": "78f0b778",
   "metadata": {
    "execution": {
     "iopub.execute_input": "2023-10-12T13:43:45.626137Z",
     "iopub.status.busy": "2023-10-12T13:43:45.625444Z",
     "iopub.status.idle": "2023-10-12T13:43:45.630870Z",
     "shell.execute_reply": "2023-10-12T13:43:45.630072Z"
    },
    "papermill": {
     "duration": 0.021148,
     "end_time": "2023-10-12T13:43:45.632670",
     "exception": false,
     "start_time": "2023-10-12T13:43:45.611522",
     "status": "completed"
    },
    "tags": []
   },
   "outputs": [
    {
     "name": "stdout",
     "output_type": "stream",
     "text": [
      "The average accuracy score of model: logistic regression is: 0.7647544883472704 \n",
      "The average accuracy score of model: svc is: 0.7248384221451822 \n",
      "The average accuracy score of model: naive_bayes is: 0.7028662161169568 \n",
      "The average accuracy score of model: random forest is: 0.7862658657972421 \n",
      "The average accuracy score of model: XGBoost is: 0.7919032736431066 \n"
     ]
    }
   ],
   "source": [
    "models = {\"logistic regression\" : logistic_regression_scores,\n",
    "         \"svc\" : svc_scores,\n",
    "         \"naive_bayes\" : naive_bayes_scores,\n",
    "         \"random forest\" : random_forest_scores,\n",
    "         \"XGBoost\" : xgb_scores,}\n",
    "\n",
    "for key, value in models.items():\n",
    "    print (f\"The average accuracy score of model: {key} is: {value.mean()} \")"
   ]
  },
  {
   "cell_type": "markdown",
   "id": "388d00a9",
   "metadata": {
    "papermill": {
     "duration": 0.012202,
     "end_time": "2023-10-12T13:43:45.657666",
     "exception": false,
     "start_time": "2023-10-12T13:43:45.645464",
     "status": "completed"
    },
    "tags": []
   },
   "source": [
    "### We can see a very tight competition with the best models being:\n",
    "\n",
    "1. XGBoost\n",
    "2. Random Forest\n",
    "3. Logistic regression\n",
    "\n",
    "Perhaps the logistic regression would have fared better if the encoding was One Hot"
   ]
  },
  {
   "cell_type": "markdown",
   "id": "27e4258f",
   "metadata": {
    "papermill": {
     "duration": 0.012108,
     "end_time": "2023-10-12T13:43:45.682322",
     "exception": false,
     "start_time": "2023-10-12T13:43:45.670214",
     "status": "completed"
    },
    "tags": []
   },
   "source": [
    "# Without optimizing any of the models, let's create the first submission of results from the test set from these 3 models"
   ]
  },
  {
   "cell_type": "code",
   "execution_count": 21,
   "id": "8eec38c2",
   "metadata": {
    "execution": {
     "iopub.execute_input": "2023-10-12T13:43:45.709038Z",
     "iopub.status.busy": "2023-10-12T13:43:45.708323Z",
     "iopub.status.idle": "2023-10-12T13:43:45.727741Z",
     "shell.execute_reply": "2023-10-12T13:43:45.726860Z"
    },
    "papermill": {
     "duration": 0.035128,
     "end_time": "2023-10-12T13:43:45.729866",
     "exception": false,
     "start_time": "2023-10-12T13:43:45.694738",
     "status": "completed"
    },
    "tags": []
   },
   "outputs": [],
   "source": [
    "original_test_data = pd.read_csv(\"/kaggle/input/spaceship-titanic/test.csv\")"
   ]
  },
  {
   "cell_type": "markdown",
   "id": "6793fe3c",
   "metadata": {
    "papermill": {
     "duration": 0.012686,
     "end_time": "2023-10-12T13:43:45.755211",
     "exception": false,
     "start_time": "2023-10-12T13:43:45.742525",
     "status": "completed"
    },
    "tags": []
   },
   "source": [
    "### Predicting using the **XGBoost** model and formating its predictions to be sent off"
   ]
  },
  {
   "cell_type": "code",
   "execution_count": 22,
   "id": "119729e7",
   "metadata": {
    "execution": {
     "iopub.execute_input": "2023-10-12T13:43:45.782429Z",
     "iopub.status.busy": "2023-10-12T13:43:45.781728Z",
     "iopub.status.idle": "2023-10-12T13:43:46.287136Z",
     "shell.execute_reply": "2023-10-12T13:43:46.286372Z"
    },
    "papermill": {
     "duration": 0.521202,
     "end_time": "2023-10-12T13:43:46.289207",
     "exception": false,
     "start_time": "2023-10-12T13:43:45.768005",
     "status": "completed"
    },
    "tags": []
   },
   "outputs": [],
   "source": [
    "xgb.fit(X,y)\n",
    "xgb_pred = pd.Series(xgb.predict(test_data))\n",
    "\n",
    "# returning the predictions to a format of True-False instead of 1/0\n",
    "xgb_pred = xgb_pred.transform(lambda x: True if x == 1.0 else False)\n",
    "\n",
    "#joining the list of passender ID's with the list of their predictions\n",
    "xgb_to_submit = pd.concat([original_test_data[\"PassengerId\"], xgb_pred], axis=1)\n",
    "\n",
    "#renaming the predicions column\n",
    "xgb_to_submit.rename(columns={0: \"Transported\"}, inplace = True)\n",
    "xgb_to_submit.set_index('PassengerId', inplace = True)\n",
    "\n",
    "xgb_to_submit.to_csv(\"/kaggle/working/XGBoost_submission\")"
   ]
  },
  {
   "cell_type": "markdown",
   "id": "a4f3ad05",
   "metadata": {
    "papermill": {
     "duration": 0.01244,
     "end_time": "2023-10-12T13:43:46.314508",
     "exception": false,
     "start_time": "2023-10-12T13:43:46.302068",
     "status": "completed"
    },
    "tags": []
   },
   "source": [
    "### Predicting using the **Random Rorest** model and formating its predictions to be sent off"
   ]
  },
  {
   "cell_type": "code",
   "execution_count": 23,
   "id": "ff2c7901",
   "metadata": {
    "execution": {
     "iopub.execute_input": "2023-10-12T13:43:46.342064Z",
     "iopub.status.busy": "2023-10-12T13:43:46.341367Z",
     "iopub.status.idle": "2023-10-12T13:43:47.453147Z",
     "shell.execute_reply": "2023-10-12T13:43:47.452094Z"
    },
    "papermill": {
     "duration": 1.128251,
     "end_time": "2023-10-12T13:43:47.455436",
     "exception": false,
     "start_time": "2023-10-12T13:43:46.327185",
     "status": "completed"
    },
    "tags": []
   },
   "outputs": [],
   "source": [
    "random_forest.fit(X,y)\n",
    "rf_pred = pd.Series(random_forest.predict(test_data))\n",
    "\n",
    "# returning the predictions to a format of True-False instead of 1/0\n",
    "rf_pred = rf_pred.transform(lambda x: True if x == 1.0 else False)\n",
    "\n",
    "#joining the list of passender ID's with the list of their predictions\n",
    "rf_to_submit = pd.concat([original_test_data[\"PassengerId\"], rf_pred], axis=1)\n",
    "\n",
    "#renaming the predicions column\n",
    "rf_to_submit.rename(columns={0: \"Transported\"}, inplace = True)\n",
    "rf_to_submit.set_index('PassengerId', inplace = True)\n",
    "\n",
    "rf_to_submit.to_csv(\"/kaggle/working/Random_Forest_submission\")"
   ]
  },
  {
   "cell_type": "markdown",
   "id": "01e9c451",
   "metadata": {
    "papermill": {
     "duration": 0.012482,
     "end_time": "2023-10-12T13:43:47.481691",
     "exception": false,
     "start_time": "2023-10-12T13:43:47.469209",
     "status": "completed"
    },
    "tags": []
   },
   "source": [
    "### Predicting using the **Logistic Regression** model and formating its predictions to be sent off"
   ]
  },
  {
   "cell_type": "code",
   "execution_count": 24,
   "id": "a9d9bc85",
   "metadata": {
    "execution": {
     "iopub.execute_input": "2023-10-12T13:43:47.510698Z",
     "iopub.status.busy": "2023-10-12T13:43:47.510090Z",
     "iopub.status.idle": "2023-10-12T13:43:47.647418Z",
     "shell.execute_reply": "2023-10-12T13:43:47.646256Z"
    },
    "papermill": {
     "duration": 0.156011,
     "end_time": "2023-10-12T13:43:47.650999",
     "exception": false,
     "start_time": "2023-10-12T13:43:47.494988",
     "status": "completed"
    },
    "tags": []
   },
   "outputs": [],
   "source": [
    "logistic_regression.fit(X,y)\n",
    "lr_pred = pd.Series(logistic_regression.predict(test_data))\n",
    "\n",
    "# returning the predictions to a format of True-False instead of 1/0\n",
    "lr_pred = lr_pred.transform(lambda x: True if x == 1.0 else False)\n",
    "\n",
    "#joining the list of passender ID's with the list of their predictions\n",
    "lr_to_submit = pd.concat([original_test_data[\"PassengerId\"], lr_pred], axis=1)\n",
    "\n",
    "#renaming the predicions column\n",
    "lr_to_submit.rename(columns={0: \"Transported\"}, inplace = True)\n",
    "lr_to_submit.set_index('PassengerId', inplace = True)\n",
    "\n",
    "lr_to_submit.to_csv(\"/kaggle/working/Logistic_Regression_submission\")"
   ]
  },
  {
   "cell_type": "markdown",
   "id": "3ae511df",
   "metadata": {
    "papermill": {
     "duration": 0.023179,
     "end_time": "2023-10-12T13:43:47.698303",
     "exception": false,
     "start_time": "2023-10-12T13:43:47.675124",
     "status": "completed"
    },
    "tags": []
   },
   "source": [
    "# END"
   ]
  }
 ],
 "metadata": {
  "kernelspec": {
   "display_name": "Python 3 (ipykernel)",
   "language": "python",
   "name": "python3"
  },
  "language_info": {
   "codemirror_mode": {
    "name": "ipython",
    "version": 3
   },
   "file_extension": ".py",
   "mimetype": "text/x-python",
   "name": "python",
   "nbconvert_exporter": "python",
   "pygments_lexer": "ipython3",
   "version": "3.11.1"
  },
  "papermill": {
   "default_parameters": {},
   "duration": 29.842674,
   "end_time": "2023-10-12T13:43:48.352289",
   "environment_variables": {},
   "exception": null,
   "input_path": "__notebook__.ipynb",
   "output_path": "__notebook__.ipynb",
   "parameters": {},
   "start_time": "2023-10-12T13:43:18.509615",
   "version": "2.4.0"
  }
 },
 "nbformat": 4,
 "nbformat_minor": 5
}
